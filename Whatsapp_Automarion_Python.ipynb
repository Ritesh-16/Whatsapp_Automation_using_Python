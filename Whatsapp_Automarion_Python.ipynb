{
 "cells": [
  {
   "cell_type": "code",
   "execution_count": 1,
   "metadata": {},
   "outputs": [],
   "source": [
    "#Download and install the selenium Library\n",
    "#Download Driver for Chrome or desired browser's driver\n",
    "#Make sure that the chrome and chrome drivers is of same version"
   ]
  },
  {
   "cell_type": "code",
   "execution_count": 2,
   "metadata": {},
   "outputs": [],
   "source": [
    "from selenium import webdriver\n",
    "from selenium.webdriver.common.by import By\n",
    "from selenium.webdriver.common.keys import Keys\n",
    "from selenium.webdriver.support.wait import WebDriverWait\n",
    "from selenium.webdriver.support import expected_conditions as ec\n",
    "import time"
   ]
  },
  {
   "cell_type": "code",
   "execution_count": 3,
   "metadata": {},
   "outputs": [],
   "source": [
    "#This is to make google cookies available everytime we visit web.whatsapp\n",
    "#By doing this no need to login everytime we visit whatsapp page\n",
    "\n",
    "#Didn't work\n",
    "# chrome_options = webdriver.ChromeOptions()\n",
    "# chrome_options.add_argument(\"user-data-dir=C:/Users/Yourname/AppData/Local/Google/Chrome/User Data\")"
   ]
  },
  {
   "cell_type": "code",
   "execution_count": 4,
   "metadata": {},
   "outputs": [],
   "source": [
    "#This is to connect to the webdriver and chrome options\n",
    "#This did not worked for me\n",
    "#driver = webdriver.Chrome(options=chrome_options)\n",
    "\n",
    "\n",
    "#Login in everytime manually everytime\n",
    "driver = webdriver.Chrome()\n",
    "driver.get(\"https://web.whatsapp.com/\")\n",
    "wait = WebDriverWait(driver,100)"
   ]
  },
  {
   "cell_type": "code",
   "execution_count": 5,
   "metadata": {},
   "outputs": [],
   "source": [
    "target = '\"ExperGrp\"'\n",
    "string = \"Automated hai bhai\"\n",
    "#This is due the name is in span tag\n",
    "x_arg = '//span[contains(@title, ' + target +')]'  \n",
    "target = wait.until(ec.presence_of_element_located((By.XPATH, x_arg)))\n",
    "target.click()  "
   ]
  },
  {
   "cell_type": "code",
   "execution_count": 6,
   "metadata": {},
   "outputs": [],
   "source": [
    "# input_box = driver.find_element(By.CLASS_NAME('_ak1l'))\n",
    "#Here I have Copied Xpath of the search box field in the whatsapp web\n",
    "#Because through class name it was not working\n",
    "search_box = '//*[@id=\"main\"]/footer/div[1]/div/span[2]/div/div[2]/div[1]'\n",
    "search_box = wait.until(ec.presence_of_element_located((By.XPATH,search_box)))\n",
    "\n",
    "for i in range(10):\n",
    "    search_box.send_keys(string + Keys.ENTER)\n",
    "    time.sleep(0.2)\n",
    " "
   ]
  }
 ],
 "metadata": {
  "kernelspec": {
   "display_name": "Python 3",
   "language": "python",
   "name": "python3"
  },
  "language_info": {
   "codemirror_mode": {
    "name": "ipython",
    "version": 3
   },
   "file_extension": ".py",
   "mimetype": "text/x-python",
   "name": "python",
   "nbconvert_exporter": "python",
   "pygments_lexer": "ipython3",
   "version": "3.12.2"
  }
 },
 "nbformat": 4,
 "nbformat_minor": 2
}
